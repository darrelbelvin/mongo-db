{
    "cells": [
        {
            "cell_type": "markdown",
            "metadata": {},
            "source": "# Using MongoDB with Docker\n\nTo create & start a container running the mongodb server,\n```bash\n$ docker run --name mongoserver -p 27017:27017 -v \"$PWD\":/home/data -d mongo\n```\n- the `-v` flag connects the filesystem in the container to your computer's filesystem. See the documentation for [docker volumes](https://docs.docker.com/storage/volumes/). \n  - Here, the container's folder `/home/data` will be mapped to whichever folder you ran the `docker run` command from (`$PWD`). If you want to make your entire home folder visible to the docker container, navigate to `~` before running the above command. If you only want the container to see, say, a folder you cloned from github, navigate to `/path/to/repo_folder` first. Any changes made to files in this folder are immediately visible to the container and your native file system. \n  - You may want to setup specific folders for projects you want to maintain.  You can just replace the $PWD with the full path to the given folder.\n\nTo start this container in the future, use the `start` command:\n```bash\n$ docker start mongoserver\n```\n\nTo access the mongo terminal in the container,\n```bash\n$ docker exec -it mongoserver mongo\n```\n"
        },
        {
            "cell_type": "markdown",
            "metadata": {},
            "source": "# Loading data into MongoDB\nSuppose you have some data in `~/path/to/data_dump/really_important.json`. Assuming you ran `docker run` from your home folder `~`, you can access the file from the container as follows:\n```bash\n$ docker exec -it mongoserver bash\n$ cd /home/data/path/to/data_dump/\n$ mongoimport --db database_name --collection collection_name < really_important.json\n```\nThis last command loaded the records in `really_important.json` into a collection in a database in the MongoDB server running in a docker container. \n\n"
        },
        {
            "cell_type": "markdown",
            "metadata": {},
            "source": "# Using the MongoDB terminal\n| command | description | \n|:--|:--|\n|`show dbs` | show databases|\n|`use db_name` | connect to database `db_name`|\n|`show collections` | show collections (tables) in the database|\n|`db.collection_name.find()` | return all records in the collection |\n|`db.collection_name.find().limit(5)`| return 5 records in the collection|\n|`db.collection_name.findOne()` | return one record in the collection|\n|`db.collection_name.find().count()` | return the count of all records|\n|`db.collection_name.insert({field_name_1:'example_string', field_name_2:['ex_list_item1', 'ex_list_item2']})`|insert a record into the collection. Mongo will create an `_id` field if not provided.|\n\n\n"
        },
        {
            "cell_type": "markdown",
            "metadata": {},
            "source": "## Query Examples\n\nSay we have a collection called `users`. Let's add a few records.\n```\ndb.users.insert({ name: 'Jon', age: '45', friends: [ 'Henry', 'Ashley']})\n\ndb.users.insert({ name: 'Ashley', age: '37', friends: [ 'Jon', 'Henry']})\n\ndb.users.insert({ name: 'Frank', age: '17',\n                  friends: [ 'Billy'], car : 'Civic'})\n\ndb.users.find()\n```\n- Note: The three documents that we inserted into the above database didn't all have the same fields.\n- Note: Mongo creates an `_id` field for each document if one isn't provided.\n\n\nNow let's query these records based on some criteria:\n```\ndb.users.find({ name: 'Jon'})               // find by single field\n\ndb.users.find({ car: { $exists : true } })  // find by presence of field\n\ndb.users.find({ friends: 'Henry' })         // find by value in array\n\ndb.users.find({}, { name: true })   // field selection (only return name)\n```\nA quick way to figure out how to write a Mongo query is to think about how you would do it in SQL and check out a resource like this Mongo endorsed [conversion guide](https://docs.mongodb.com/manual/reference/sql-comparison/#create-and-alter), or use something like a [query translator](http://www.querymongo.com/).\n\n"
        },
        {
            "cell_type": "markdown",
            "metadata": {},
            "source": "## Updating\n```\n// replaces friends array\ndb.users.update({name: \"Jon\"}, { $set: {friends: [\"Phil\"]}})\n\n// adds to friends array\ndb.users.update({name: \"Jon\"}, { $push: {friends: \"Susie\"}})   \n\n// upsert\ndb.users.update({name: \"Stevie\"}, { $push: {friends: \"Nicks\"}}, true)\n\n// multiple updates\ndb.users.update({}, { $set: { activated : false } }, false, true)\n```\n[Documentation on updating](https://docs.mongodb.com/manual/reference/method/db.collection.update/)\n\n[Documentation on aggregation](https://docs.mongodb.com/manual/reference/sql-aggregation-comparison/)\n\n"
        },
        {
            "cell_type": "markdown",
            "metadata": {},
            "source": "# Using PyMongo\n\nFirst, install the pymongo package\n```bash\n$ conda install pymongo\n```\n\nThen, in ipython,\n```python\nfrom pymongo import MongoClient\nclient = MongoClient('localhost', 27017)\ndb = client['database_name']\ntable = db['collection_name']\n```\nNow you can use python to insert, update, and query records\n\n```python\nexample_record = {'name':'moses', 'age':31, 'friends':['ted', 'gahl']}\n\ntable.insert_one(example_record)\n\ntable.update_one({'name':'moses'}, {'$set':{'age':32}})\n\ntable.find() # returns a generator for all records\n\ntable.find({'age':30}) # find all records with age = 30\n\ntable.count_documents({}) # return the count of all records in the collection\n\n"
        },
        {
            "cell_type": "markdown",
            "metadata": {},
            "source": "# to view all the collections in a database\ndb.collection_names()\n```\n"
        }
    ],
    "metadata": {},
    "nbformat": 4,
    "nbformat_minor": 2
}